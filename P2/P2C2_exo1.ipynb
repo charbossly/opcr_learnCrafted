{
 "cells": [
  {
   "cell_type": "markdown",
   "metadata": {
    "id": "FxUPqeiIO8uY"
   },
   "source": [
    "![openclassrooms](https://s3.eu-west-1.amazonaws.com/course.oc-static.com/courses/6204541/1+HnqdJ-5ofxiPP9HIxdNdpw.jpeg)\n",
    "\n",
    "# Initiez-vous à Python pour l'analyse de données\n",
    "\n",
    "## Manipulez les types de variables\n",
    "\n",
    "Reprenons la problématique du taux d'intérêt du chapitre précédent :"
   ]
  },
  {
   "cell_type": "code",
   "execution_count": 2,
   "metadata": {
    "colab": {
     "base_uri": "https://localhost:8080/"
    },
    "id": "qCQizF1wO8ui",
    "outputId": "1356ead1-920f-405c-8449-67ce92029525"
   },
   "outputs": [
    {
     "name": "stdout",
     "output_type": "stream",
     "text": [
      "75.0\n"
     ]
    }
   ],
   "source": [
    "compteEpargne = 10000\n",
    "taux = 0.75\n",
    "\n",
    "interets = compteEpargne * (taux/100)\n",
    "\n",
    "print(interets)"
   ]
  },
  {
   "cell_type": "markdown",
   "metadata": {
    "id": "Nq8CHeOxO8um"
   },
   "source": [
    "Si vous observez bien, la variable `interets` est actuellement de type `float`. Ecrivez ci dessous une ligne permettant de la transformer en entier :"
   ]
  },
  {
   "cell_type": "code",
   "execution_count": 3,
   "metadata": {
    "colab": {
     "base_uri": "https://localhost:8080/"
    },
    "id": "OzTEhNe1O8un",
    "outputId": "1aabfebf-74e2-49d1-cb73-27341fb20cdb"
   },
   "outputs": [
    {
     "name": "stdout",
     "output_type": "stream",
     "text": [
      "75\n"
     ]
    }
   ],
   "source": [
    "interets = int(interets)\n",
    "print(interets)"
   ]
  }
 ],
 "metadata": {
  "colab": {
   "provenance": []
  },
  "kernelspec": {
   "display_name": "Python 3 (ipykernel)",
   "language": "python",
   "name": "python3"
  },
  "language_info": {
   "codemirror_mode": {
    "name": "ipython",
    "version": 3
   },
   "file_extension": ".py",
   "mimetype": "text/x-python",
   "name": "python",
   "nbconvert_exporter": "python",
   "pygments_lexer": "ipython3",
   "version": "3.10.6"
  }
 },
 "nbformat": 4,
 "nbformat_minor": 4
}
