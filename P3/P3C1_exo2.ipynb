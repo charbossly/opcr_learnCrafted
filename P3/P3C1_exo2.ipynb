{
  "cells": [
    {
      "cell_type": "markdown",
      "metadata": {
        "id": "gHCrYx-sZOQn"
      },
      "source": [
        "![openclassrooms](https://s3.eu-west-1.amazonaws.com/course.oc-static.com/courses/6204541/1+HnqdJ-5ofxiPP9HIxdNdpw.jpeg)\n",
        "\n",
        "# Initiez-vous à Python pour l'analyse de données\n",
        "\n",
        "## Créez des tableaux pour stocker vos variables\n",
        "\n",
        "<br><br>\n",
        "\n",
        "**Ajouter des éléments à une liste**\n",
        "\n",
        "Remplacez les **??** par le code adéquat pour créer une liste vide :"
      ]
    },
    {
      "cell_type": "code",
      "execution_count": 7,
      "metadata": {
        "id": "OGj2ToiUZOQw"
      },
      "outputs": [],
      "source": [
        "invites = []"
      ]
    },
    {
      "cell_type": "markdown",
      "metadata": {
        "id": "vAlWn4KyZOQz"
      },
      "source": [
        "Ajoutez 3 invités à la liste : Joey, Martin et Marie"
      ]
    },
    {
      "cell_type": "code",
      "execution_count": 8,
      "metadata": {
        "id": "qCS6VIZ6ZOQ1",
        "outputId": "ff8f5397-7a4e-4f3d-d841-4b25ddf89398",
        "colab": {
          "base_uri": "https://localhost:8080/"
        }
      },
      "outputs": [
        {
          "output_type": "stream",
          "name": "stdout",
          "text": [
            "['Joey', 'Martin', 'Marie']\n"
          ]
        }
      ],
      "source": [
        "invites.extend([\"Joey\",\"Martin\",\"Marie\"])"
      ]
    },
    {
      "cell_type": "markdown",
      "metadata": {
        "id": "S9FIZpT1ZOQ1"
      },
      "source": [
        "Affichez la taille de la liste :"
      ]
    },
    {
      "cell_type": "code",
      "execution_count": 9,
      "metadata": {
        "id": "3VB2XP3tZOQ2",
        "outputId": "4ef53992-bb44-44fc-af80-1036ac0f6878",
        "colab": {
          "base_uri": "https://localhost:8080/"
        }
      },
      "outputs": [
        {
          "output_type": "stream",
          "name": "stdout",
          "text": [
            "3\n"
          ]
        }
      ],
      "source": [
        "print(len(invites))"
      ]
    },
    {
      "cell_type": "markdown",
      "metadata": {
        "id": "VMvd0No4ZOQ3"
      },
      "source": [
        "Remplacez Martin par John dans la liste :"
      ]
    },
    {
      "cell_type": "code",
      "execution_count": 10,
      "metadata": {
        "id": "vvivdyCSZOQ5"
      },
      "outputs": [],
      "source": [
        "invites[1]= \"John\""
      ]
    },
    {
      "cell_type": "markdown",
      "metadata": {
        "id": "yaghFGzsZOQ6"
      },
      "source": [
        "Supprimez Joey de la liste :"
      ]
    },
    {
      "cell_type": "code",
      "execution_count": 11,
      "metadata": {
        "id": "5W6hzgzWZOQ7",
        "outputId": "45bec893-bf41-4ed6-dcdc-b46efab433bc",
        "colab": {
          "base_uri": "https://localhost:8080/"
        }
      },
      "outputs": [
        {
          "output_type": "stream",
          "name": "stdout",
          "text": [
            "['John', 'Marie']\n"
          ]
        }
      ],
      "source": [
        "del invites[invites.index(\"Joey\")]\n",
        "print(invites)"
      ]
    },
    {
      "cell_type": "markdown",
      "metadata": {
        "id": "mz0FqMNGZOQ7"
      },
      "source": [
        "Affichez le contenu de la liste :"
      ]
    },
    {
      "cell_type": "code",
      "execution_count": 12,
      "metadata": {
        "id": "fErRvgfxZOQ7",
        "outputId": "90b22fdb-b24e-4ec9-e33e-39ea4beaeb7b",
        "colab": {
          "base_uri": "https://localhost:8080/"
        }
      },
      "outputs": [
        {
          "output_type": "stream",
          "name": "stdout",
          "text": [
            "John\n",
            "Marie\n"
          ]
        }
      ],
      "source": [
        "for invite in invites :\n",
        "    print(invite)"
      ]
    }
  ],
  "metadata": {
    "kernelspec": {
      "display_name": "Python 3",
      "language": "python",
      "name": "python3"
    },
    "language_info": {
      "codemirror_mode": {
        "name": "ipython",
        "version": 3
      },
      "file_extension": ".py",
      "mimetype": "text/x-python",
      "name": "python",
      "nbconvert_exporter": "python",
      "pygments_lexer": "ipython3",
      "version": "3.8.5"
    },
    "colab": {
      "provenance": []
    }
  },
  "nbformat": 4,
  "nbformat_minor": 0
}