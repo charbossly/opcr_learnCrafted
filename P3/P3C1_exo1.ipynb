{
  "cells": [
    {
      "cell_type": "markdown",
      "metadata": {
        "id": "PlvnIL1PWmcR"
      },
      "source": [
        "![openclassrooms](https://s3.eu-west-1.amazonaws.com/course.oc-static.com/courses/6204541/1+HnqdJ-5ofxiPP9HIxdNdpw.jpeg)\n",
        "\n",
        "# Initiez-vous à Python pour l'analyse de données\n",
        "\n",
        "## Créez des tableaux pour stocker vos variables\n",
        "\n",
        "<br><br>\n",
        "\n",
        "**Une liste pour les gouverner tous**\n",
        "\n",
        "Déclarez une liste `couleurs` contenant 5 éléments : `rouge`, `jaune`, `orange`, `vert` et `bleu`."
      ]
    },
    {
      "cell_type": "code",
      "execution_count": 1,
      "metadata": {
        "id": "yfYF2lxnWmcf"
      },
      "outputs": [],
      "source": [
        "couleurs = [\"rouge\",\"jaune\",\"orange\",\"vert\",\"bleu\"]"
      ]
    },
    {
      "cell_type": "markdown",
      "metadata": {
        "id": "kr_DT-MuWmch"
      },
      "source": [
        "Remplacez la couleur `vert` par `émeraude` :"
      ]
    },
    {
      "cell_type": "code",
      "execution_count": 2,
      "metadata": {
        "id": "nIwS12YXWmcj"
      },
      "outputs": [],
      "source": [
        "couleurs[3] =  \"émeraude\""
      ]
    },
    {
      "cell_type": "markdown",
      "metadata": {
        "id": "ock6TKMWWmcj"
      },
      "source": [
        "Affichez le contenu de la liste :"
      ]
    },
    {
      "cell_type": "code",
      "execution_count": 3,
      "metadata": {
        "colab": {
          "base_uri": "https://localhost:8080/"
        },
        "id": "tl16x5U6Wmck",
        "outputId": "682c6ba9-9695-433c-db63-dad3d79589a3"
      },
      "outputs": [
        {
          "output_type": "stream",
          "name": "stdout",
          "text": [
            "rouge\n",
            "jaune\n",
            "orange\n",
            "émeraude\n",
            "bleu\n"
          ]
        }
      ],
      "source": [
        "for couleur in couleurs :\n",
        "    print(couleur)"
      ]
    }
  ],
  "metadata": {
    "kernelspec": {
      "display_name": "Python 3",
      "language": "python",
      "name": "python3"
    },
    "language_info": {
      "codemirror_mode": {
        "name": "ipython",
        "version": 3
      },
      "file_extension": ".py",
      "mimetype": "text/x-python",
      "name": "python",
      "nbconvert_exporter": "python",
      "pygments_lexer": "ipython3",
      "version": "3.8.5"
    },
    "colab": {
      "provenance": []
    }
  },
  "nbformat": 4,
  "nbformat_minor": 0
}