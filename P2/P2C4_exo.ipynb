{
  "cells": [
    {
      "cell_type": "markdown",
      "metadata": {
        "id": "eJ4MedPlT3I4"
      },
      "source": [
        "![openclassrooms](https://s3.eu-west-1.amazonaws.com/course.oc-static.com/courses/6204541/1+HnqdJ-5ofxiPP9HIxdNdpw.jpeg)\n",
        "\n",
        "# Initiez-vous à Python pour l'analyse de données\n",
        "\n",
        "## Programmez en orienté objet\n",
        "\n",
        "<br><br>\n",
        "\n",
        "**Les méthodes de chaines de caractères**\n",
        "\n",
        "Soit la variable `maPhrase` suivante :"
      ]
    },
    {
      "cell_type": "code",
      "execution_count": 1,
      "metadata": {
        "id": "l05ndY8nT3I-"
      },
      "outputs": [],
      "source": [
        "maPhrase = 'JE SUIS ENERVE !!'"
      ]
    },
    {
      "cell_type": "markdown",
      "metadata": {
        "id": "CJS1JvnhT3JB"
      },
      "source": [
        "Utilisez une méthode de chaines de caractères pour transformer la variable `maPhrase`  en minuscule :"
      ]
    },
    {
      "cell_type": "code",
      "execution_count": 3,
      "metadata": {
        "id": "8CaNToB5T3JC"
      },
      "outputs": [],
      "source": [
        "maPhrase = maPhrase.lower()"
      ]
    },
    {
      "cell_type": "markdown",
      "metadata": {
        "id": "hGbzopl4T3JD"
      },
      "source": [
        "Remplacez les **...** par une ligne permettant, à partir de la variable maPhrase d'afficher : `je suis calme !!`"
      ]
    },
    {
      "cell_type": "code",
      "execution_count": 4,
      "metadata": {
        "id": "ztauUqTaT3JD",
        "outputId": "ecd2116e-8029-4f05-f020-e3f0d0b0907e",
        "colab": {
          "base_uri": "https://localhost:8080/"
        }
      },
      "outputs": [
        {
          "output_type": "stream",
          "name": "stdout",
          "text": [
            "je suis enerve !!\n"
          ]
        }
      ],
      "source": [
        "print(maPhrase)"
      ]
    }
  ],
  "metadata": {
    "kernelspec": {
      "display_name": "Python 3",
      "language": "python",
      "name": "python3"
    },
    "language_info": {
      "codemirror_mode": {
        "name": "ipython",
        "version": 3
      },
      "file_extension": ".py",
      "mimetype": "text/x-python",
      "name": "python",
      "nbconvert_exporter": "python",
      "pygments_lexer": "ipython3",
      "version": "3.8.5"
    },
    "colab": {
      "provenance": []
    }
  },
  "nbformat": 4,
  "nbformat_minor": 0
}